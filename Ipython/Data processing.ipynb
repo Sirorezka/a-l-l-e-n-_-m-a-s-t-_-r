{
 "cells": [
  {
   "cell_type": "code",
   "execution_count": 117,
   "metadata": {
    "collapsed": false
   },
   "outputs": [],
   "source": [
    "import csv\n",
    "import numpy as np\n",
    "import pandas as pd"
   ]
  },
  {
   "cell_type": "markdown",
   "metadata": {},
   "source": [
    "Merging all existing data together"
   ]
  },
  {
   "cell_type": "code",
   "execution_count": 150,
   "metadata": {
    "collapsed": false
   },
   "outputs": [],
   "source": [
    "## creating joined set\n",
    "\n",
    "train_data = pd.read_csv (\"../data/training_set.tsv\", sep = '\\t' )\n",
    "test_data = pd.read_csv (\"../data/validation_set.tsv\", sep = '\\t' )\n",
    "\n",
    "## add nulls to test data\n",
    "test_data[\"correctAnswer\"] = np.repeat(np.array(\"-1\"),test_data.count()[0])\n",
    "cols = train_data.columns.tolist()\n",
    "\n",
    "## rearrange cols in train data\n",
    "cols = cols[:2] + cols[3:] + cols[2:3]\n",
    "train_data = train_data[cols]\n",
    "\n",
    "# print (cols)\n",
    "# print (train_data.columns.values)\n",
    "# print (test_data.columns.values)\n",
    "\n",
    "## merging&saving\n",
    "joined_data = train_data.append(test_data)\n",
    "joined_data.to_csv(\"../data/joined_set.tsv\", index = False,sep='\\t',encoding = \"utf-8\")"
   ]
  },
  {
   "cell_type": "code",
   "execution_count": 22,
   "metadata": {
    "collapsed": false
   },
   "outputs": [
    {
     "name": "stdout",
     "output_type": "stream",
     "text": [
      "glove_data_filename\n"
     ]
    }
   ],
   "source": [
    "txtfile = \"glove_data_filename.txt\"\n",
    "print (txtfile[:-4])"
   ]
  },
  {
   "cell_type": "code",
   "execution_count": 82,
   "metadata": {
    "collapsed": false
   },
   "outputs": [
    {
     "name": "stdout",
     "output_type": "stream",
     "text": [
      "--- reading data ---\n",
      "data loaded\n",
      "0.12  min\n"
     ]
    }
   ],
   "source": [
    "import codecs\n",
    "import time\n",
    "\n",
    "#read glove\n",
    "word2vec = {}\n",
    "glove_data_filename = \"glove.6B.50d.txt\"\n",
    "with codecs.open(\"../data/glove/\" + glove_data_filename ,\"r\",\"utf-8\") as f:\n",
    "    print (\"--- reading data ---\")\n",
    "    st_time = time.time()\n",
    "    for line in f.readlines():\n",
    "       # print (\"sdf\")\n",
    "        l = line.split()\n",
    "        word2vec[l[0]] = list(map(float, l[1:]))\n",
    "    print (\"data loaded\")\n",
    "    print (round((time.time() - st_time)/60,2),\" min\")"
   ]
  },
  {
   "cell_type": "code",
   "execution_count": 87,
   "metadata": {
    "collapsed": false
   },
   "outputs": [
    {
     "name": "stdout",
     "output_type": "stream",
     "text": [
      "evolved\n",
      "evolved\n",
      "[0.35819, 0.27701, 0.11172, -0.2323, 0.088961, -0.38405, -0.90414, 0.8364, -0.57683, -0.53735, 0.39809, 0.22029, -0.45777, 0.23434, -0.11633, 0.30078, 0.81404, -0.1125, -0.045471, -0.23455, 0.041953, 0.011856, -0.10295, 0.63302, -0.41546, -1.5055, 0.76489, -0.95373, -0.85943, -0.42165, 2.6321, 1.2754, -1.3012, -0.12969, -0.23035, -0.48685, -0.1713, -0.28975, -0.56311, -0.61723, -0.077356, -0.37792, -0.047039, -0.59064, 0.19568, 0.17748, -0.51369, -0.02406, -0.86568, -0.10985]\n"
     ]
    },
    {
     "data": {
      "text/plain": [
       "['caliguiri', 'scragg', 'lodhi', 'triphthongs']"
      ]
     },
     "execution_count": 87,
     "metadata": {},
     "output_type": "execute_result"
    }
   ],
   "source": [
    "print (\"evolved\".strip())\n",
    "print (\"evolved\")\n",
    "w = \"nive\"\n",
    "w = w.lower()\n",
    "print(list(word2vec[\"join\".lower()]))\n",
    "list(word2vec.keys())[1:5]"
   ]
  },
  {
   "cell_type": "code",
   "execution_count": 115,
   "metadata": {
    "collapsed": false
   },
   "outputs": [
    {
     "name": "stdout",
     "output_type": "stream",
     "text": [
      "[ 0.  0.  0.  0.  0.  0.  0.  0.  0.  0.  0.  0.  0.  0.  0.  0.  0.  0.\n",
      "  0.  0.  0.  0.  0.  0.  0.  0.  0.  0.  0.  0.  0.  0.  0.  0.  0.  0.\n",
      "  0.  0.  0.  0.  0.  0.  0.  0.  0.  0.  0.  0.  0.  0.  0.  0.  0.  0.\n",
      "  0.  0.  0.  0.  0.  0.  0.  0.  0.  0.  0.  0.  0.  0.  0.  0.  0.  0.\n",
      "  0.  0.  0.  0.  0.  0.  0.  0.  0.  0.  0.  0.  0.  0.  0.  0.  0.  0.\n",
      "  0.  0.  0.  0.  0.  0.  0.  0.  0.  0.]\n",
      "['id' 'question' 'correctAnswer' 'answerA' 'answerB' 'answerC' 'answerD']\n",
      "['id' 'question' 'answerA' 'answerB' 'answerC' 'answerD' 'correctAnswer']\n",
      "       id                                           question  \\\n",
      "0  102501  A meter is industry by developing a process of...   \n",
      "1  102502  Which part of directly involved in recycling t...   \n",
      "2  102503  Which of the seeds grow better in the light or...   \n",
      "3  102504  Which of the hermaphroditic. This growing seas...   \n",
      "4  102505  When marsupials following is not a transport o...   \n",
      "\n",
      "                      answerA  \\\n",
      "0  cool foods during shipping   \n",
      "1                     panting   \n",
      "2             muscular system   \n",
      "3           coniferous forest   \n",
      "4                      heart.   \n",
      "\n",
      "                                             answerB  \\\n",
      "0                                               yard   \n",
      "1                                            urethra   \n",
      "2  keep one group in a light place and another in...   \n",
      "3                             no reproductive organs   \n",
      "4                                          glucagon.   \n",
      "\n",
      "                                         answerC                   answerD  \\\n",
      "0                                 nervous system             birds of prey   \n",
      "1                                      predators                     water   \n",
      "2                                skates and rays            nervous tissue   \n",
      "3  there is less water loss through small leaves                 perennial   \n",
      "4                                       hatched.  to protect vital organs.   \n",
      "\n",
      "  correctAnswer  \n",
      "0                \n",
      "1                \n",
      "2                \n",
      "3                \n",
      "4                \n"
     ]
    }
   ],
   "source": [
    "\n"
   ]
  }
 ],
 "metadata": {
  "kernelspec": {
   "display_name": "Python 3",
   "language": "python",
   "name": "python3"
  },
  "language_info": {
   "codemirror_mode": {
    "name": "ipython",
    "version": 3
   },
   "file_extension": ".py",
   "mimetype": "text/x-python",
   "name": "python",
   "nbconvert_exporter": "python",
   "pygments_lexer": "ipython3",
   "version": "3.4.3"
  }
 },
 "nbformat": 4,
 "nbformat_minor": 0
}
