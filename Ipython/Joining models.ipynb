{
 "cells": [
  {
   "cell_type": "code",
   "execution_count": 638,
   "metadata": {
    "collapsed": false
   },
   "outputs": [],
   "source": [
    "%matplotlib inline\n",
    "\n",
    "import csv\n",
    "import numpy as np\n",
    "import pandas as pd\n",
    "import codecs\n",
    "import time\n",
    "from sklearn.preprocessing import scale, LabelBinarizer\n",
    "from sklearn.cross_validation import train_test_split\n",
    "from sklearn.linear_model import LogisticRegression\n",
    "from sklearn.tree import DecisionTreeRegressor\n",
    "from sklearn import cross_validation\n",
    "from sklearn.ensemble import AdaBoostClassifier\n",
    "import matplotlib.pyplot as plt"
   ]
  },
  {
   "cell_type": "markdown",
   "metadata": {},
   "source": [
    "Merging all existing data together"
   ]
  },
  {
   "cell_type": "code",
   "execution_count": 639,
   "metadata": {
    "collapsed": true
   },
   "outputs": [],
   "source": [
    "def open_data_file(file_path):\n",
    "    f1 = csv.reader(open(file_path))\n",
    "    header = next(f1)\n",
    "    data = []\n",
    "    for row in f1:\n",
    "        data.append(row)\n",
    "        \n",
    "    datafr = pd.DataFrame(data, dtype=\"float\")\n",
    "    datafr.columns = [\"id\",\"A\",\"B\",\"C\",\"D\"]\n",
    "    return datafr"
   ]
  },
  {
   "cell_type": "code",
   "execution_count": 640,
   "metadata": {
    "collapsed": false
   },
   "outputs": [],
   "source": [
    "# Convert probablities into answers\n",
    "def get_answers(pandas_df_prob):\n",
    "\n",
    "    df = list(map(lambda x: np.argmax(pandas_df_prob.iloc[x,1:]), range(pandas_df_prob.shape[0])))\n",
    "    return np.array(df)\n",
    "\n",
    "def fill_nans (x):\n",
    "    #print (pd.isnull(x))\n",
    "    val = 0\n",
    "    if pd.isnull(x):\n",
    "        val = 0\n",
    "    else:\n",
    "        val =x\n",
    "    return x\n"
   ]
  },
  {
   "cell_type": "code",
   "execution_count": 641,
   "metadata": {
    "collapsed": false
   },
   "outputs": [
    {
     "name": "stdout",
     "output_type": "stream",
     "text": [
      "\n"
     ]
    }
   ],
   "source": [
    "## Loading data\n",
    "\n",
    "all_data = pd.read_csv (\"../data/joined_set.tsv\", sep = '\\t' )\n",
    "\n",
    "probs_gl_6B_300d = open_data_file(\"../predictions/prob_prediction_glove_dict_glove.6B.300d.csv\")\n",
    "probs_gl_twit_27B_200D = open_data_file(\"../predictions/prob_prediction_glove_dict_glove.twitter.27B.200d.csv\")\n",
    "probs_ck_12 = open_data_file(\"../predictions/prob_prediction_ck12.csv\")\n",
    "\n",
    "\n",
    "probs_ck_12 = pd.DataFrame(scale (probs_ck_12,axis=0))\n",
    "print ()\n",
    "X_full = pd.concat ([probs_gl_6B_300d, probs_gl_twit_27B_200D.iloc[:,1:],probs_ck_12.iloc[:,1:]], axis=1)\n",
    "\n"
   ]
  },
  {
   "cell_type": "code",
   "execution_count": 642,
   "metadata": {
    "collapsed": false
   },
   "outputs": [
    {
     "name": "stdout",
     "output_type": "stream",
     "text": [
      "nulls by column\n",
      "id       0\n",
      "A      386\n",
      "B      391\n",
      "C      372\n",
      "D      400\n",
      "A     1132\n",
      "B     1143\n",
      "C     1115\n",
      "D     1131\n",
      "1        0\n",
      "2        0\n",
      "3        0\n",
      "4        0\n",
      "dtype: int64\n",
      "        id         A         B         C         D         A         B  \\\n",
      "17  100018  0.474552  0.000000  0.450218 -0.124574  0.621523  0.000000   \n",
      "18  100019  0.520808  0.516180  0.716305  0.670864  0.670022  0.680622   \n",
      "19  100020  0.377641  0.251784  0.258041  0.304747  0.528533  0.433635   \n",
      "\n",
      "           C         D         1         2         3         4  \n",
      "17  0.639909  0.000000 -0.370709 -0.374160 -0.385057 -0.389015  \n",
      "18  0.786480  0.790769 -0.377903 -0.323398 -0.252845 -0.263130  \n",
      "19  0.507621  0.564263 -0.377331 -0.374160 -0.356060 -0.353271  \n"
     ]
    }
   ],
   "source": [
    "## removin nulls\n",
    "print (\"nulls by column\")\n",
    "print (X_full.isnull().sum())\n",
    "    \n",
    "X_full = X_full.fillna (0) \n",
    "print (X_full.iloc[17:20,:])"
   ]
  },
  {
   "cell_type": "code",
   "execution_count": 632,
   "metadata": {
    "collapsed": false,
    "scrolled": true
   },
   "outputs": [
    {
     "name": "stdout",
     "output_type": "stream",
     "text": [
      "Total train:  2500\n",
      "Total test:  8132 \n",
      "\n",
      "test:  1750\n",
      "test:  750\n",
      "Variables:  ['A' 'B' 'C' 'D' 'A' 'B' 'C' 'D' 1 2 3 4]\n"
     ]
    }
   ],
   "source": [
    "## splitting data into test & train:\n",
    "\n",
    "ind_train = all_data[\"correctAnswer\"] != \"-1\"\n",
    "\n",
    "\n",
    "y = all_data[ind_train].iloc[:,6]\n",
    "X = X_full[ind_train].iloc[:,1:]\n",
    "X_no_label = X_full[~ind_train].iloc[:,1:]\n",
    "quest_ids = all_data[~ind_train].iloc[:,0]\n",
    "\n",
    "print (\"Total train: \",len(X))\n",
    "print (\"Total test: \", len(X_no_label),\"\\n\")\n",
    "\n",
    "X_train, X_test, y_train, y_test = train_test_split (X,y, test_size = 0.3, random_state=42)\n",
    "print (\"test: \",len(X_train))\n",
    "print (\"test: \",len(X_test))\n",
    "\n",
    "print (\"Variables: \",X.columns.values)"
   ]
  },
  {
   "cell_type": "markdown",
   "metadata": {},
   "source": [
    "Assessing Models Scores:"
   ]
  },
  {
   "cell_type": "code",
   "execution_count": 607,
   "metadata": {
    "collapsed": false
   },
   "outputs": [],
   "source": [
    "def evaluate_score (y_model, y_real):\n",
    "    model_score = sum(y_model==y_real)/len(y_real)\n",
    "    return model_score\n",
    "\n",
    "def class_to_binary (y_class,class_label):\n",
    "    y_class [y_class==class_label] = 1\n",
    "    y_class [y_class!=1] = 0\n",
    "    y_class = y_class.astype(float)\n",
    "    return y_class\n",
    "\n",
    "def binary_to_label (y_bin_class,class_label):\n",
    "    y_bin_class = y_bin_class.astype(str)\n",
    "    y_bin_class [y_bin_class==\"A\"] = class_label\n",
    "    y_bin_class [y_bin_class!=class_label] = \"\"\n",
    "    return y_bin_class"
   ]
  },
  {
   "cell_type": "code",
   "execution_count": 608,
   "metadata": {
    "collapsed": false
   },
   "outputs": [
    {
     "name": "stdout",
     "output_type": "stream",
     "text": [
      "probs_gl_6B_300d  score: 0.3044\n",
      "probs_gl_twit_27B_200D  score: 0.2736\n"
     ]
    }
   ],
   "source": [
    "v1_answ = get_answers (probs_gl_6B_300d)\n",
    "print (\"probs_gl_6B_300d  score:\", evaluate_score(v1_answ[:2500],y))\n",
    "\n",
    "\n",
    "v1_answ = get_answers (probs_gl_twit_27B_200D)\n",
    "print (\"probs_gl_twit_27B_200D  score:\",evaluate_score(v1_answ[:2500],y))\n"
   ]
  },
  {
   "cell_type": "code",
   "execution_count": 670,
   "metadata": {
    "collapsed": false
   },
   "outputs": [
    {
     "name": "stdout",
     "output_type": "stream",
     "text": [
      "[ 0.34545455  0.32727273  0.27727273  0.32876712  0.28310502  0.25688073\n",
      "  0.28899083  0.29166667]\n",
      "1   0.324\n"
     ]
    }
   ],
   "source": [
    "C_arange = np.arange (1,2,5)\n",
    "\n",
    "gr1_points =[]\n",
    "gr2_points =[]\n",
    "gr3_points =[]\n",
    "#print (X_train)\n",
    "for C_par in C_arange:\n",
    "    #clf = LogisticRegression (penalty='l1', C=C_par, random_state= 84)\n",
    "    clf = AdaBoostClassifier (n_estimators=91, learning_rate=0.05, random_state= 84)\n",
    "    \n",
    "    scores = cross_validation.cross_val_score(clf, X_train, y_train, cv=8)\n",
    "    print (scores)\n",
    "    gr1_points.append(scores.mean())\n",
    "    gr2_points.append(scores.min())\n",
    "    clf.fit (X_train,y_train)\n",
    "    y_pred = clf.predict(X_test)\n",
    "    gr3_points.append(evaluate_score(y_pred,y_test))\n",
    "    print (C_par,\" \", evaluate_score(y_pred,y_test))"
   ]
  },
  {
   "cell_type": "code",
   "execution_count": 661,
   "metadata": {
    "collapsed": false
   },
   "outputs": [
    {
     "data": {
      "image/png": "[encoded data removed]",
      "text/plain": [
       "<matplotlib.figure.Figure at 0x9cc78d0>"
      ]
     },
     "metadata": {},
     "output_type": "display_data"
    }
   ],
   "source": [
    "plt.plot (C_arange,gr1_points,color=\"orange\")\n",
    "plt.plot (C_arange,gr2_points,color=\"blue\")\n",
    "plt.plot (C_arange,gr3_points,color=\"green\")\n",
    "plt.show ()"
   ]
  },
  {
   "cell_type": "markdown",
   "metadata": {},
   "source": [
    "Building Logistic Regression"
   ]
  },
  {
   "cell_type": "code",
   "execution_count": 673,
   "metadata": {
    "collapsed": false,
    "scrolled": false
   },
   "outputs": [
    {
     "name": "stdout",
     "output_type": "stream",
     "text": [
      "           id correctAnswer\n",
      "2500   102501             C\n",
      "2501   102502             C\n",
      "2502   102503             B\n",
      "2503   102504             C\n",
      "2504   102505             D\n",
      "2505   102506             C\n",
      "2506   102507             B\n",
      "2507   102508             B\n",
      "2508   102509             B\n",
      "2509   102510             C\n",
      "2510   102511             A\n",
      "2511   102512             C\n",
      "2512   102513             B\n",
      "2513   102514             C\n",
      "2514   102515             D\n",
      "2515   102516             D\n",
      "2516   102517             A\n",
      "2517   102518             D\n",
      "2518   102519             B\n",
      "2519   102520             B\n",
      "2520   102521             D\n",
      "2521   102522             B\n",
      "2522   102523             A\n",
      "2523   102524             D\n",
      "2524   102525             C\n",
      "2525   102526             D\n",
      "2526   102527             B\n",
      "2527   102528             D\n",
      "2528   102529             B\n",
      "2529   102530             B\n",
      "...       ...           ...\n",
      "10602  110603             D\n",
      "10603  110604             C\n",
      "10604  110605             C\n",
      "10605  110606             B\n",
      "10606  110607             C\n",
      "10607  110608             D\n",
      "10608  110609             D\n",
      "10609  110610             B\n",
      "10610  110611             D\n",
      "10611  110612             C\n",
      "10612  110613             C\n",
      "10613  110614             D\n",
      "10614  110615             B\n",
      "10615  110616             B\n",
      "10616  110617             D\n",
      "10617  110618             D\n",
      "10618  110619             C\n",
      "10619  110620             D\n",
      "10620  110621             C\n",
      "10621  110622             B\n",
      "10622  110623             B\n",
      "10623  110624             B\n",
      "10624  110625             B\n",
      "10625  110626             D\n",
      "10626  110627             B\n",
      "10627  110628             D\n",
      "10628  110629             A\n",
      "10629  110630             B\n",
      "10630  110631             B\n",
      "10631  110632             A\n",
      "\n",
      "[8132 rows x 2 columns]\n"
     ]
    }
   ],
   "source": [
    "clf = LogisticRegression (penalty='l1', C=0.35, random_state= 84)\n",
    "clf = AdaBoostClassifier (n_estimators=91, learning_rate=0.05, random_state= 84)\n",
    "clf.fit (X_train,y_train)\n",
    "y_pred = clf.predict(X_no_label)\n",
    "\n",
    "predicted_data = pd.DataFrame({'id': quest_ids,'correctAnswer': y_pred})[['id', 'correctAnswer']]\n",
    "\n",
    "predicted_data.to_csv(\"../predictions/assemble_model_ada_boost.csv\", index = False)\n",
    "print (predicted_data)"
   ]
  },
  {
   "cell_type": "code",
   "execution_count": null,
   "metadata": {
    "collapsed": true
   },
   "outputs": [],
   "source": []
  }
 ],
 "metadata": {
  "kernelspec": {
   "display_name": "Python 3",
   "language": "python",
   "name": "python3"
  },
  "language_info": {
   "codemirror_mode": {
    "name": "ipython",
    "version": 3
   },
   "file_extension": ".py",
   "mimetype": "text/x-python",
   "name": "python",
   "nbconvert_exporter": "python",
   "pygments_lexer": "ipython3",
   "version": "3.4.3"
  }
 },
 "nbformat": 4,
 "nbformat_minor": 0
}
