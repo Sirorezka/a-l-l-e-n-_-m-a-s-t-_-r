{
 "cells": [
  {
   "cell_type": "code",
   "execution_count": 34,
   "metadata": {
    "collapsed": false
   },
   "outputs": [],
   "source": [
    "%matplotlib inline\n",
    "\n",
    "import argparse\n",
    "import ipyth_utils\n",
    "import csv\n",
    "import numpy as np\n",
    "import pandas as pd\n",
    "import codecs\n",
    "import time\n",
    "from nltk.stem.snowball import SnowballStemmer\n",
    "from sklearn.preprocessing import scale, LabelBinarizer\n",
    "from sklearn.cross_validation import train_test_split\n",
    "from sklearn.linear_model import LogisticRegression\n",
    "from sklearn.tree import DecisionTreeRegressor\n",
    "from sklearn import cross_validation\n",
    "from sklearn.ensemble import AdaBoostClassifier\n",
    "import matplotlib.pyplot as plt\n",
    "\n",
    "from multiprocessing import Pool"
   ]
  },
  {
   "cell_type": "markdown",
   "metadata": {},
   "source": [
    "Some useful functions"
   ]
  },
  {
   "cell_type": "code",
   "execution_count": 2,
   "metadata": {
    "collapsed": false
   },
   "outputs": [],
   "source": [
    "#urls  to get toppics\n",
    "ck12_url_topic = ['https://www.ck12.org/earth-science/', 'http://www.ck12.org/life-science/', \n",
    "                  'http://www.ck12.org/physical-science/', 'http://www.ck12.org/biology/', \n",
    "                  'http://www.ck12.org/chemistry/', 'http://www.ck12.org/physics/',\n",
    "                  'http://www.ck12.org/astronomy/','http://www.ck12.org/history/',\n",
    "                  ]\n",
    "wiki_docs_dir = '../data/wiki_data'\n",
    "\n",
    "\n",
    "def get_wiki_docs():\n",
    "    # get keywords \n",
    "    ck12_keywords = set()\n",
    "    for url_topic in ck12_url_topic:\n",
    "        keywords= ipyth_utils.get_keyword_from_url_topic(url_topic)\n",
    "        for kw in keywords:\n",
    "            ck12_keywords.add(kw)\n",
    "    \n",
    "    #get and save wiki docs\n",
    "    utils.get_save_wiki_docs(ck12_keywords, wiki_docs_dir)\n",
    "\n",
    "\n",
    "class ck12_predict_cl():\n",
    "    def __init__ (self):\n",
    "        self.docs_tf = dict()\n",
    "        self.words_idf = dict()\n",
    "        self.ngram = -1\n",
    "        #index docs\n",
    "        pass\n",
    "    \n",
    "    def tf_idf_dict (self, n_gram):\n",
    "        self.docs_tf, self.words_idf = ipyth_utils.get_docstf_idf(wiki_docs_dir,n_gram)\n",
    "        self.max_n_gram = n_gram\n",
    "        pass\n",
    "    \n",
    "    def similar_score(self, data, docs_per_q, n_gram):\n",
    "        res = []\n",
    "        doc_score = [[\"A\",\"B\",\"C\",\"D\"]]\n",
    "        for index, row in data.iterrows():\n",
    "            #get answers words\n",
    "            w_A = set(ipyth_utils.tokenize(row['answerA'],n_gram))\n",
    "            w_B = set(ipyth_utils.tokenize(row['answerB'],n_gram))\n",
    "            w_C = set(ipyth_utils.tokenize(row['answerC'],n_gram))\n",
    "            w_D = set(ipyth_utils.tokenize(row['answerD'],n_gram))\n",
    "\n",
    "            sc_A = 0\n",
    "            sc_B = 0\n",
    "            sc_C = 0\n",
    "            sc_D = 0\n",
    "\n",
    "            q = row['question']\n",
    "\n",
    "            for d in list(zip(*ipyth_utils.get_docs_importance_for_question(q, self.docs_tf, self.words_idf, n_gram = n_gram, max_docs = docs_per_q)))[0]:\n",
    "                for w in w_A:\n",
    "                    if w in self.docs_tf[d]:\n",
    "                        sc_A += 1. * self.docs_tf[d][w] * self.words_idf[w]\n",
    "                for w in w_B:\n",
    "                    if w in self.docs_tf[d]:\n",
    "                        sc_B += 1. * self.docs_tf[d][w] * self.words_idf[w]\n",
    "                for w in w_C:\n",
    "                    if w in self.docs_tf[d]:\n",
    "                        sc_C += 1. * self.docs_tf[d][w] * self.words_idf[w]\n",
    "                for w in w_D:\n",
    "                    if w in self.docs_tf[d]:\n",
    "                        sc_D += 1. * self.docs_tf[d][w] * self.words_idf[w]\n",
    "\n",
    "            res.append(['A','B','C','D'][np.argmax([sc_A, sc_B, sc_C, sc_D])])\n",
    "            doc_score.append([sc_A, sc_B, sc_C, sc_D])\n",
    "        return res, doc_score\n",
    "\n",
    "\n",
    "def evaluate_score (y_model, y_real):\n",
    "    model_score = sum(y_model==y_real)/len(y_real)\n",
    "    return model_score"
   ]
  },
  {
   "cell_type": "code",
   "execution_count": 46,
   "metadata": {
    "collapsed": false
   },
   "outputs": [],
   "source": [
    "## Input parameters\n",
    "parser = argparse.ArgumentParser()\n",
    "\n",
    "fname_str = 'joined_set.tsv'\n",
    "docs_per_q = 10\n",
    "get_wiki_data = 0  # put 1 if you want to download wiki data"
   ]
  },
  {
   "cell_type": "code",
   "execution_count": 47,
   "metadata": {
    "collapsed": false
   },
   "outputs": [
    {
     "name": "stdout",
     "output_type": "stream",
     "text": [
      "run: reading csv\n",
      "Data collected\n"
     ]
    }
   ],
   "source": [
    "## READING THE DATA\n",
    "\n",
    "if get_wiki_data:\n",
    "    print(\"run: parse wiki docs from urls\")\n",
    "    get_wiki_docs()\n",
    "    \n",
    "print(\"run: reading csv\")    \n",
    "#read data\n",
    "data = pd.read_csv('../data/' + fname_str, sep = '\\t')\n",
    "\n",
    "print(\"Data collected\")"
   ]
  },
  {
   "cell_type": "code",
   "execution_count": null,
   "metadata": {
    "collapsed": false
   },
   "outputs": [],
   "source": [
    "## BUILDING TF-IDF MODEL\n",
    "\n",
    "print(\"Building TF-idf model\")\n",
    "start_time = time.time()\n",
    "ck12_prediction = ck12_predict_cl ()\n",
    "ck12_prediction.tf_idf_dict(n_gram = 3)\n",
    "print (\"tf-idf collected\")\n",
    "print (\"elapsed time: \",round((time.time()-start_time)/60,2))\n",
    "\n",
    "#ck12_prediction.docs_tf"
   ]
  },
  {
   "cell_type": "code",
   "execution_count": 18,
   "metadata": {
    "collapsed": false
   },
   "outputs": [],
   "source": [
    "## Checking that we have correct ngrams for some word in the data\n",
    "#print (ck12_prediction.docs_tf['21st_century_tsunami.txt'].keys())"
   ]
  },
  {
   "cell_type": "code",
   "execution_count": 21,
   "metadata": {
    "collapsed": false
   },
   "outputs": [
    {
     "name": "stdout",
     "output_type": "stream",
     "text": [
      "run: predicting data\n",
      "elapsed time:  2.17\n",
      "finished predicting probabilities\n"
     ]
    }
   ],
   "source": [
    "## PREDICTING DATA\n",
    "\n",
    "#predict\n",
    "print(\"run: predicting data\")\n",
    "start_time = time.time()\n",
    "res, prob_scores = ck12_prediction.similar_score(data, docs_per_q = 10, n_gram = 3)\n",
    "print (\"elapsed time: \",round((time.time()-start_time)/60,2))\n",
    "print (\"finished predicting probabilities\")"
   ]
  },
  {
   "cell_type": "code",
   "execution_count": 23,
   "metadata": {
    "collapsed": false
   },
   "outputs": [
    {
     "name": "stdout",
     "output_type": "stream",
     "text": [
      "0.3776\n"
     ]
    }
   ],
   "source": [
    "## EVALUATING SCORES\n",
    "\n",
    "y = data.iloc[0:2500,6]\n",
    "y_pred = res[0:2500]\n",
    "print (evaluate_score (y_pred,y))\n"
   ]
  },
  {
   "cell_type": "markdown",
   "metadata": {},
   "source": [
    "Running parameter query test accross the data // <br>"
   ]
  },
  {
   "cell_type": "code",
   "execution_count": null,
   "metadata": {
    "collapsed": true
   },
   "outputs": [],
   "source": [
    "### Generating dictionary - probably too extensive\n",
    "\n",
    "#ck12_prediction = ck12_predict_cl ()\n",
    "#ck12_prediction.tf_idf_dict()"
   ]
  },
  {
   "cell_type": "code",
   "execution_count": 26,
   "metadata": {
    "collapsed": false,
    "scrolled": false
   },
   "outputs": [
    {
     "name": "stdout",
     "output_type": "stream",
     "text": [
      "run: predicting data\n",
      "finished preciting probabilities:\n",
      "[['A' 'B' 'C' 'D']\n",
      " ['1.6887266993114634' '1.339924944718226' '1.7293861582968262'\n",
      "  '0.8024479687220413']]\n",
      "parameter:  15  :  0.372\n",
      "run: predicting data\n",
      "finished preciting probabilities:\n",
      "[['A' 'B' 'C' 'D']\n",
      " ['1.7599097006666897' '1.403547525582601' '1.8926303429581421'\n",
      "  '0.8254159717259345']]\n",
      "parameter:  16  :  0.37\n",
      "run: predicting data\n",
      "finished preciting probabilities:\n",
      "[['A' 'B' 'C' 'D']\n",
      " ['1.831092702021916' '1.4671701064469762' '2.055874527619458'\n",
      "  '0.8483839747298277']]\n",
      "parameter:  17  :  0.372\n",
      "run: predicting data\n",
      "finished preciting probabilities:\n",
      "[['A' 'B' 'C' 'D']\n",
      " ['1.9022757033771425' '1.5307926873113513' '2.2191187122807743'\n",
      "  '0.871351977733721']]\n",
      "parameter:  18  :  0.3724\n",
      "run: predicting data\n",
      "finished preciting probabilities:\n",
      "[['A' 'B' 'C' 'D']\n",
      " ['1.9734587047323688' '1.5944152681757264' '2.3823628969420905'\n",
      "  '0.8943199807376142']]\n",
      "parameter:  19  :  0.372\n",
      "run: predicting data\n",
      "finished preciting probabilities:\n",
      "[['A' 'B' 'C' 'D']\n",
      " ['2.044641706087595' '1.6580378490401015' '2.5456070816034067'\n",
      "  '0.9172879837415074']]\n",
      "parameter:  20  :  0.3688\n",
      "run: predicting data\n",
      "finished preciting probabilities:\n",
      "[['A' 'B' 'C' 'D']\n",
      " ['2.115824707442821' '1.7216604299044767' '2.708851266264723'\n",
      "  '0.9402559867454007']]\n",
      "parameter:  21  :  0.3704\n",
      "run: predicting data\n",
      "finished preciting probabilities:\n",
      "[['A' 'B' 'C' 'D']\n",
      " ['2.1870077087980473' '1.7852830107688518' '2.872095450926039'\n",
      "  '0.9632239897492939']]\n",
      "parameter:  22  :  0.3744\n",
      "run: predicting data\n",
      "finished preciting probabilities:\n",
      "[['A' 'B' 'C' 'D']\n",
      " ['2.334367065249109' '1.8164003832488664' '2.9530558484096234'\n",
      "  '0.9943413622293087']]\n",
      "parameter:  23  :  0.3708\n",
      "run: predicting data\n",
      "finished preciting probabilities:\n",
      "[['A' 'B' 'C' 'D']\n",
      " ['2.481726421700171' '1.847517755728881' '3.034016245893208'\n",
      "  '1.0254587347093234']]\n",
      "parameter:  24  :  0.37\n"
     ]
    }
   ],
   "source": [
    "## Should be done in parallel\n",
    "\n",
    "# MAKE RUN ACROSS PARAMETERS\n",
    "par_arange = np.arange(15,25,1)\n",
    "\n",
    "scor_li = []\n",
    "for par_iter in par_arange:\n",
    "    print(\"run: predicting data\")\n",
    "    res, prob_scores = ck12_prediction.similar_score(data, docs_per_q = par_iter, n_gram = 3)\n",
    "    prob_scores = np.array(prob_scores).flatten()\n",
    "    prob_scores = np.resize (prob_scores,(len(prob_scores)/4,4))\n",
    "    print (\"finished preciting probabilities:\")\n",
    "    print (prob_scores[0:2,:])\n",
    "\n",
    "    y = data.iloc[0:2500,6]\n",
    "    y_pred = res[0:2500]\n",
    "    print (\"parameter: \",par_iter, \" : \",evaluate_score (y_pred,y))\n",
    "    scor_li.append(evaluate_score (y_pred,y))\n",
    "    "
   ]
  },
  {
   "cell_type": "code",
   "execution_count": 27,
   "metadata": {
    "collapsed": false
   },
   "outputs": [
    {
     "data": {
      "image/png": "[encoded data removed]",
      "text/plain": [
       "<matplotlib.figure.Figure at 0x3a6016d8>"
      ]
     },
     "metadata": {},
     "output_type": "display_data"
    }
   ],
   "source": [
    "plt.plot (par_arange,scor_li)\n",
    "plt.title (\"Number of similar docs to look for vs Model perfomance\")\n",
    "plt.show()"
   ]
  },
  {
   "cell_type": "code",
   "execution_count": 31,
   "metadata": {
    "collapsed": false
   },
   "outputs": [
    {
     "name": "stdout",
     "output_type": "stream",
     "text": [
      "finished predicting probabilities\n",
      "0.3792\n"
     ]
    }
   ],
   "source": [
    "## Optmal number of docs is 15, however it's good to try small too\n",
    "\n",
    "res, prob_scores = ck12_prediction.similar_score(data, 12,n_gram=3)\n",
    "print (\"finished predicting probabilities\")\n",
    "y = data.iloc[0:2500,6]\n",
    "y_pred = res[0:2500]\n",
    "print (evaluate_score (y_pred,y))"
   ]
  },
  {
   "cell_type": "code",
   "execution_count": 33,
   "metadata": {
    "collapsed": false
   },
   "outputs": [],
   "source": [
    "#save result\n",
    "pd.DataFrame({'id': list(data['id']), 'correctAnswer': res})[['id', 'correctAnswer']].to_csv(\"../predictions/prediction_ck12.csv\", index = False)\n",
    "\n",
    "prob_scores = np.array(prob_scores).flatten()\n",
    "prob_scores = np.resize (prob_scores,(len(prob_scores)/4,4))\n",
    "pd.DataFrame({'id': list(data['id']),'probA': prob_scores[1:,0],'probB': prob_scores[1:,1],'probC': prob_scores[1:,2],'probD': prob_scores[1:,3]}).to_csv(\"../predictions/prob_prediction_ck12.csv\", index = False)\n",
    "\n"
   ]
  },
  {
   "cell_type": "code",
   "execution_count": null,
   "metadata": {
    "collapsed": true
   },
   "outputs": [],
   "source": []
  }
 ],
 "metadata": {
  "kernelspec": {
   "display_name": "Python 3",
   "language": "python",
   "name": "python3"
  },
  "language_info": {
   "codemirror_mode": {
    "name": "ipython",
    "version": 3
   },
   "file_extension": ".py",
   "mimetype": "text/x-python",
   "name": "python",
   "nbconvert_exporter": "python",
   "pygments_lexer": "ipython3",
   "version": "3.4.3"
  }
 },
 "nbformat": 4,
 "nbformat_minor": 0
}
