{
 "cells": [
  {
   "cell_type": "code",
   "execution_count": 6,
   "metadata": {
    "collapsed": false
   },
   "outputs": [],
   "source": [
    "%matplotlib inline\n",
    "\n",
    "import argparse\n",
    "import ipyth_utils\n",
    "import csv\n",
    "import numpy as np\n",
    "import pandas as pd\n",
    "import codecs\n",
    "import time\n",
    "from nltk.stem.snowball import SnowballStemmer\n",
    "from sklearn.preprocessing import scale, LabelBinarizer\n",
    "from sklearn.cross_validation import train_test_split\n",
    "from sklearn.linear_model import LogisticRegression\n",
    "from sklearn.tree import DecisionTreeRegressor\n",
    "from sklearn import cross_validation\n",
    "from sklearn.ensemble import AdaBoostClassifier\n",
    "import matplotlib.pyplot as plt\n",
    "\n",
    "from multiprocessing import Pool"
   ]
  },
  {
   "cell_type": "markdown",
   "metadata": {},
   "source": [
    "Some useful functions"
   ]
  },
  {
   "cell_type": "code",
   "execution_count": 7,
   "metadata": {
    "collapsed": false
   },
   "outputs": [],
   "source": [
    "#urls  to get toppics\n",
    "ck12_url_topic = ['https://www.ck12.org/earth-science/', 'http://www.ck12.org/life-science/', \n",
    "                  'http://www.ck12.org/physical-science/', 'http://www.ck12.org/biology/', \n",
    "                  'http://www.ck12.org/chemistry/', 'http://www.ck12.org/physics/',\n",
    "                  'http://www.ck12.org/astronomy/','http://www.ck12.org/history/',\n",
    "                  ]\n",
    "wiki_docs_dir = '../data/wiki_data'\n",
    "\n",
    "\n",
    "def get_wiki_docs():\n",
    "    # get keywords \n",
    "    ck12_keywords = set()\n",
    "    for url_topic in ck12_url_topic:\n",
    "        keywords= ipyth_utils.get_keyword_from_url_topic(url_topic)\n",
    "        for kw in keywords:\n",
    "            ck12_keywords.add(kw)\n",
    "    \n",
    "    #get and save wiki docs\n",
    "    utils.get_save_wiki_docs(ck12_keywords, wiki_docs_dir)\n",
    "\n",
    "\n",
    "class ck12_predict_cl():\n",
    "    def __init__ (self):\n",
    "        self.docs_tf = dict()\n",
    "        self.words_idf = dict()\n",
    "        self.ngram = -1\n",
    "        #index docs\n",
    "        pass\n",
    "    \n",
    "    def tf_idf_dict (self, n_gram):\n",
    "        self.docs_tf, self.words_idf = ipyth_utils.get_docstf_idf(wiki_docs_dir,n_gram)\n",
    "        self.max_n_gram = n_gram\n",
    "        pass\n",
    "    \n",
    "    def similar_score(self, data, docs_per_q, n_gram):\n",
    "        res = []\n",
    "        doc_score = [[\"A\",\"B\",\"C\",\"D\"]]\n",
    "        for index, row in data.iterrows():\n",
    "            #get answers words\n",
    "            w_A = set(ipyth_utils.tokenize(row['answerA'],n_gram))\n",
    "            w_B = set(ipyth_utils.tokenize(row['answerB'],n_gram))\n",
    "            w_C = set(ipyth_utils.tokenize(row['answerC'],n_gram))\n",
    "            w_D = set(ipyth_utils.tokenize(row['answerD'],n_gram))\n",
    "\n",
    "            sc_A = 0\n",
    "            sc_B = 0\n",
    "            sc_C = 0\n",
    "            sc_D = 0\n",
    "\n",
    "            q = row['question']\n",
    "\n",
    "            for d in list(zip(*ipyth_utils.get_docs_importance_for_question(q, self.docs_tf, self.words_idf, n_gram = n_gram, max_docs = docs_per_q)))[0]:\n",
    "                for w in w_A:\n",
    "                    if w in self.docs_tf[d]:\n",
    "                        sc_A += 1. * self.docs_tf[d][w] * self.words_idf[w]\n",
    "                for w in w_B:\n",
    "                    if w in self.docs_tf[d]:\n",
    "                        sc_B += 1. * self.docs_tf[d][w] * self.words_idf[w]\n",
    "                for w in w_C:\n",
    "                    if w in self.docs_tf[d]:\n",
    "                        sc_C += 1. * self.docs_tf[d][w] * self.words_idf[w]\n",
    "                for w in w_D:\n",
    "                    if w in self.docs_tf[d]:\n",
    "                        sc_D += 1. * self.docs_tf[d][w] * self.words_idf[w]\n",
    "\n",
    "            res.append(['A','B','C','D'][np.argmax([sc_A, sc_B, sc_C, sc_D])])\n",
    "            doc_score.append([sc_A, sc_B, sc_C, sc_D])\n",
    "        return res, doc_score\n",
    "\n",
    "\n",
    "def evaluate_score (y_model, y_real):\n",
    "    model_score = sum(y_model==y_real)/len(y_real)\n",
    "    return model_score"
   ]
  },
  {
   "cell_type": "code",
   "execution_count": 8,
   "metadata": {
    "collapsed": false
   },
   "outputs": [],
   "source": [
    "## Input parameters\n",
    "parser = argparse.ArgumentParser()\n",
    "\n",
    "fname_str = 'joined_set.tsv'\n",
    "docs_per_q = 10\n",
    "get_wiki_data = 0  # put 1 if you want to download wiki data"
   ]
  },
  {
   "cell_type": "code",
   "execution_count": 9,
   "metadata": {
    "collapsed": false
   },
   "outputs": [
    {
     "name": "stdout",
     "output_type": "stream",
     "text": [
      "run: reading csv\n",
      "Data collected\n"
     ]
    }
   ],
   "source": [
    "## READING THE DATA\n",
    "\n",
    "if get_wiki_data:\n",
    "    print(\"run: parse wiki docs from urls\")\n",
    "    get_wiki_docs()\n",
    "    \n",
    "print(\"run: reading csv\")    \n",
    "#read data\n",
    "data = pd.read_csv('../data/' + fname_str, sep = '\\t')\n",
    "\n",
    "print(\"Data collected\")"
   ]
  },
  {
   "cell_type": "code",
   "execution_count": 10,
   "metadata": {
    "collapsed": false
   },
   "outputs": [
    {
     "name": "stdout",
     "output_type": "stream",
     "text": [
      "Building TF-idf model\n",
      "running tf_idf\n",
      "200\n",
      "400\n",
      "600\n",
      "800\n",
      "1000\n",
      "1200\n",
      "1400\n",
      "1600\n",
      "1800\n",
      "2000\n",
      "calculating tf-idf: \n",
      "tf-idf collected\n",
      "elapsed time:  20.28\n"
     ]
    }
   ],
   "source": [
    "## BUILDING TF-IDF MODEL\n",
    "\n",
    "print(\"Building TF-idf model\")\n",
    "start_time = time.time()\n",
    "ck12_prediction = ck12_predict_cl ()\n",
    "ck12_prediction.tf_idf_dict(n_gram = 3)\n",
    "print (\"tf-idf collected\")\n",
    "print (\"elapsed time: \",round((time.time()-start_time)/60,2))\n",
    "\n",
    "#ck12_prediction.docs_tf"
   ]
  },
  {
   "cell_type": "code",
   "execution_count": 11,
   "metadata": {
    "collapsed": false
   },
   "outputs": [
    {
     "name": "stdout",
     "output_type": "stream",
     "text": [
      "['athletes', 'begin', 'exercise', 'heart', 'rates', 'respiration', 'rates', 'increase', 'level', 'organization', 'human', 'body', 'coordinate', 'functions'] \n",
      "\n",
      "['athlet', 'begin', 'exercis', 'heart', 'rate', 'respir', 'rate', 'increas', 'level', 'organ', 'human', 'bodi', 'coordin', 'function']\n",
      "['athlet', 'begin', 'exercis', 'heart', 'rate', 'respir', 'rate', 'increas', 'level', 'organ', 'human', 'bodi', 'coordin', 'function']\n"
     ]
    }
   ],
   "source": [
    "## Checking Steamer\n",
    "\n",
    "print (ipyth_utils.tokenize(data.iloc[0,1].strip(\" \"),ngram=1, do_steam= False),\"\\n\")\n",
    "print (ipyth_utils.tokenize(data.iloc[0,1].strip(\" \"),ngram=1, do_steam= True))\n",
    "print (ipyth_utils.tokenize(data.iloc[0,1].strip(\" \"),ngram=1))\n",
    "file_path = u\"..\\data\\wiki_data\\predation_in_life_science.txt\"\n",
    "\n",
    "#print (ipyth_utils.tokenize(open(file_path).read(),ngram=1, do_steam= False)[0:100])\n",
    "#print (ipyth_utils.tokenize(open(file_path).read(),ngram=1, do_steam= True)[0:100])\n",
    "\n",
    "##ck12_prediction.docs_tf['predation_in_life_science.txt']"
   ]
  },
  {
   "cell_type": "code",
   "execution_count": 12,
   "metadata": {
    "collapsed": false
   },
   "outputs": [],
   "source": [
    "## Checking that we have correct ngrams for some word in the data\n",
    "#print (ck12_prediction.docs_tf['21st_century_tsunami.txt'].keys())"
   ]
  },
  {
   "cell_type": "code",
   "execution_count": 13,
   "metadata": {
    "collapsed": false
   },
   "outputs": [
    {
     "name": "stdout",
     "output_type": "stream",
     "text": [
      "run: predicting data\n",
      "elapsed time:  2.18\n",
      "finished predicting probabilities\n"
     ]
    }
   ],
   "source": [
    "## PREDICTING DATA\n",
    "\n",
    "#predict\n",
    "print(\"run: predicting data\")\n",
    "start_time = time.time()\n",
    "res, prob_scores = ck12_prediction.similar_score(data, docs_per_q = 10, n_gram = 3)\n",
    "print (\"elapsed time: \",round((time.time()-start_time)/60,2))\n",
    "print (\"finished predicting probabilities\")"
   ]
  },
  {
   "cell_type": "code",
   "execution_count": 14,
   "metadata": {
    "collapsed": false
   },
   "outputs": [
    {
     "name": "stdout",
     "output_type": "stream",
     "text": [
      "0.3852\n"
     ]
    }
   ],
   "source": [
    "## EVALUATING SCORES\n",
    "\n",
    "y = data.iloc[0:2500,6]\n",
    "y_pred = res[0:2500]\n",
    "print (evaluate_score (y_pred,y))\n"
   ]
  },
  {
   "cell_type": "markdown",
   "metadata": {},
   "source": [
    "Running parameter query test accross the data // <br>"
   ]
  },
  {
   "cell_type": "code",
   "execution_count": 15,
   "metadata": {
    "collapsed": true
   },
   "outputs": [],
   "source": [
    "### Generating dictionary - probably too extensive\n",
    "\n",
    "#ck12_prediction = ck12_predict_cl ()\n",
    "#ck12_prediction.tf_idf_dict()"
   ]
  },
  {
   "cell_type": "code",
   "execution_count": 18,
   "metadata": {
    "collapsed": false,
    "scrolled": false
   },
   "outputs": [
    {
     "name": "stdout",
     "output_type": "stream",
     "text": [
      "run: predicting data\n",
      "finished preciting probabilities:\n",
      "[['A' 'B' 'C' 'D']\n",
      " ['0.6216765170037633' '0.6166389432342856' '0.43016692091022557'\n",
      "  '0.13896956284002385']]\n",
      "parameter:  3  :  0.382\n",
      "run: predicting data\n",
      "finished preciting probabilities:\n",
      "[['A' 'B' 'C' 'D']\n",
      " ['0.8806899130717615' '0.8908189821580877' '0.5963641571041052'\n",
      "  '0.1899474272270943']]\n",
      "parameter:  4  :  0.39\n",
      "run: predicting data\n",
      "finished preciting probabilities:\n",
      "[['A' 'B' 'C' 'D']\n",
      " ['1.072698460657642' '1.095224233322398' '0.7425570879564716'\n",
      "  '0.33614035807946063']]\n",
      "parameter:  5  :  0.3884\n"
     ]
    }
   ],
   "source": [
    "## Should be done in parallel\n",
    "\n",
    "# MAKE RUN ACROSS PARAMETERS\n",
    "par_arange = np.arange(3,6,1)\n",
    "\n",
    "scor_li = []\n",
    "for par_iter in par_arange:\n",
    "    print(\"run: predicting data\")\n",
    "    res, prob_scores = ck12_prediction.similar_score(data, docs_per_q = par_iter, n_gram = 3)\n",
    "    prob_scores = np.array(prob_scores).flatten()\n",
    "    prob_scores = np.resize (prob_scores,(len(prob_scores)/4,4))\n",
    "    print (\"finished preciting probabilities:\")\n",
    "    print (prob_scores[0:2,:])\n",
    "\n",
    "    y = data.iloc[0:2500,6]\n",
    "    y_pred = res[0:2500]\n",
    "    print (\"parameter: \",par_iter, \" : \",evaluate_score (y_pred,y))\n",
    "    scor_li.append(evaluate_score (y_pred,y))\n",
    "    "
   ]
  },
  {
   "cell_type": "code",
   "execution_count": 19,
   "metadata": {
    "collapsed": false
   },
   "outputs": [
    {
     "data": {
      "image/png": "[encoded data removed]",
      "text/plain": [
       "<matplotlib.figure.Figure at 0x2c2808d0>"
      ]
     },
     "metadata": {},
     "output_type": "display_data"
    }
   ],
   "source": [
    "plt.plot (par_arange,scor_li)\n",
    "\n",
    "plt.title (\"Number of similar docs to look for vs Model perfomance\")\n",
    "plt.show()"
   ]
  },
  {
   "cell_type": "code",
   "execution_count": 20,
   "metadata": {
    "collapsed": false
   },
   "outputs": [
    {
     "name": "stdout",
     "output_type": "stream",
     "text": [
      "finished predicting probabilities\n",
      "0.39\n"
     ]
    }
   ],
   "source": [
    "## Optmal number of docs is 15, however it's good to try small too\n",
    "\n",
    "res, prob_scores = ck12_prediction.similar_score(data, docs_per_q = 10,n_gram=3)\n",
    "print (\"finished predicting probabilities\")\n",
    "y = data.iloc[0:2500,6]\n",
    "y_pred = res[0:2500]\n",
    "print (evaluate_score (y_pred,y))"
   ]
  },
  {
   "cell_type": "code",
   "execution_count": 23,
   "metadata": {
    "collapsed": false
   },
   "outputs": [],
   "source": [
    "#save result\n",
    "pd.DataFrame({'id': list(data['id']), 'correctAnswer': res})[['id', 'correctAnswer']].to_csv(\"../predictions/prediction_ck12.csv\", index = False)\n",
    "\n",
    "prob_scores = np.array(prob_scores).flatten()\n",
    "prob_scores = np.resize (prob_scores,(len(prob_scores)/4,4))\n",
    "pd.DataFrame({'id': list(data['id']),'probA': prob_scores[1:,0],'probB': prob_scores[1:,1],'probC': prob_scores[1:,2],'probD': prob_scores[1:,3]}).to_csv(\"../predictions/prob_prediction_ck12.csv\", index = False)\n",
    "\n"
   ]
  },
  {
   "cell_type": "code",
   "execution_count": null,
   "metadata": {
    "collapsed": true
   },
   "outputs": [],
   "source": []
  }
 ],
 "metadata": {
  "kernelspec": {
   "display_name": "Python 3",
   "language": "python",
   "name": "python3"
  },
  "language_info": {
   "codemirror_mode": {
    "name": "ipython",
    "version": 3
   },
   "file_extension": ".py",
   "mimetype": "text/x-python",
   "name": "python",
   "nbconvert_exporter": "python",
   "pygments_lexer": "ipython3",
   "version": "3.4.3"
  }
 },
 "nbformat": 4,
 "nbformat_minor": 0
}
