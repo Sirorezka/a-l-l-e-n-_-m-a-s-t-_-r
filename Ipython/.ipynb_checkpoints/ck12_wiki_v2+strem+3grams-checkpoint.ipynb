{
 "cells": [
  {
   "cell_type": "code",
   "execution_count": 1,
   "metadata": {
    "collapsed": false
   },
   "outputs": [],
   "source": [
    "%matplotlib inline\n",
    "\n",
    "import argparse\n",
    "from utils import ipyth_utils_par\n",
    "from utils.ipyth_ck12_training_class import *\n",
    "import csv\n",
    "import numpy as np\n",
    "import pandas as pd\n",
    "import codecs\n",
    "import time\n",
    "from nltk.stem.snowball import SnowballStemmer\n",
    "from sklearn.preprocessing import scale, LabelBinarizer\n",
    "from sklearn.cross_validation import train_test_split\n",
    "from sklearn.linear_model import LogisticRegression\n",
    "from sklearn.tree import DecisionTreeRegressor\n",
    "from sklearn import cross_validation\n",
    "from sklearn.ensemble import AdaBoostClassifier\n",
    "import matplotlib.pyplot as plt\n",
    "\n",
    "from multiprocessing import Pool\n",
    "import gc\n",
    "gc.enable()\n",
    "\n"
   ]
  },
  {
   "cell_type": "markdown",
   "metadata": {},
   "source": [
    "Some useful functions"
   ]
  },
  {
   "cell_type": "code",
   "execution_count": 2,
   "metadata": {
    "collapsed": false
   },
   "outputs": [],
   "source": [
    "#urls  to get toppics\n",
    "ck12_url_topic = ['https://www.ck12.org/earth-science/', 'http://www.ck12.org/life-science/', \n",
    "                  'http://www.ck12.org/physical-science/', 'http://www.ck12.org/biology/', \n",
    "                  'http://www.ck12.org/chemistry/', 'http://www.ck12.org/physics/',\n",
    "                  'http://www.ck12.org/astronomy/','http://www.ck12.org/history/',\n",
    "                  ]\n",
    "\n",
    "wiki_docs_dir = '../data/wiki_data'\n",
    "N_WORKERS = 1\n",
    "\n",
    "def get_wiki_docs():\n",
    "    # get keywords \n",
    "    ck12_keywords = set()\n",
    "    for url_topic in ck12_url_topic:\n",
    "        keywords= ipyth_utils_par.get_keyword_from_url_topic(url_topic)\n",
    "        for kw in keywords:\n",
    "            ck12_keywords.add(kw)\n",
    "    \n",
    "    #get and save wiki docs\n",
    "    utils.get_save_wiki_docs(ck12_keywords, wiki_docs_dir)\n",
    "\n",
    "class ck12_predict_loc(ck12_predict_cl):\n",
    "    pass\n",
    "\n",
    "\n",
    "def evaluate_score (y_model, y_real):\n",
    "    model_score = sum(y_model==y_real)/len(y_real)\n",
    "    return model_score"
   ]
  },
  {
   "cell_type": "code",
   "execution_count": 3,
   "metadata": {
    "collapsed": false
   },
   "outputs": [],
   "source": [
    "## Input parameters\n",
    "parser = argparse.ArgumentParser()\n",
    "\n",
    "fname_str = 'joined_set.tsv'\n",
    "docs_per_q = 10\n",
    "get_wiki_data = 0  # put 1 if you want to download wiki data"
   ]
  },
  {
   "cell_type": "code",
   "execution_count": 4,
   "metadata": {
    "collapsed": false
   },
   "outputs": [
    {
     "name": "stdout",
     "output_type": "stream",
     "text": [
      "run: reading csv\n",
      "Data collected\n"
     ]
    }
   ],
   "source": [
    "## READING THE DATA\n",
    "\n",
    "if get_wiki_data:\n",
    "    print(\"run: parse wiki docs from urls\")\n",
    "    get_wiki_docs()\n",
    "    \n",
    "print(\"run: reading csv\")    \n",
    "#read data\n",
    "data = pd.read_csv('../data/' + fname_str, sep = '\\t')\n",
    "\n",
    "print(\"Data collected\")"
   ]
  },
  {
   "cell_type": "code",
   "execution_count": 5,
   "metadata": {
    "collapsed": false
   },
   "outputs": [
    {
     "name": "stdout",
     "output_type": "stream",
     "text": [
      "Building TF-idf model\n",
      "running tf_idf\n",
      "calculating tf-idf: \n",
      "tf-idf collected\n",
      "elapsed time:  1.5\n"
     ]
    }
   ],
   "source": [
    "## BUILDING TF-IDF MODEL\n",
    "\n",
    "print(\"Building TF-idf model\")\n",
    "start_time = time.time()\n",
    "ck12_prediction = ck12_predict_loc ()\n",
    "ck12_prediction.tf_idf_dict(wiki_docs_dir, n_gram = 3, workers=N_WORKERS)\n",
    "print (\"tf-idf collected\")\n",
    "print (\"elapsed time: \",round((time.time()-start_time)/60,2))\n",
    "\n",
    "#ck12_prediction.docs_tf"
   ]
  },
  {
   "cell_type": "code",
   "execution_count": 6,
   "metadata": {
    "collapsed": false
   },
   "outputs": [
    {
     "name": "stdout",
     "output_type": "stream",
     "text": [
      "['athletes', 'begin', 'exercise', 'heart', 'rates', 'respiration', 'rates', 'increase', 'level', 'organization', 'human', 'body', 'coordinate', 'functions'] \n",
      "\n",
      "['athlet', 'begin', 'exercis', 'heart', 'rate', 'respir', 'rate', 'increas', 'level', 'organ', 'human', 'bodi', 'coordin', 'function']\n",
      "['athlet', 'begin', 'exercis', 'heart', 'rate', 'respir', 'rate', 'increas', 'level', 'organ', 'human', 'bodi', 'coordin', 'function']\n"
     ]
    }
   ],
   "source": [
    "## Checking Steamer\n",
    "\n",
    "print (ipyth_utils_par.tokenize(data.iloc[0,1].strip(\" \"),ngram=1, do_stem= False),\"\\n\")\n",
    "print (ipyth_utils_par.tokenize(data.iloc[0,1].strip(\" \"),ngram=1, do_stem= True))\n",
    "print (ipyth_utils_par.tokenize(data.iloc[0,1].strip(\" \"),ngram=1))\n",
    "file_path = u\"..\\data\\wiki_data\\predation_in_life_science.txt\"\n",
    "\n",
    "#print (ipyth_utils.tokenize(open(file_path).read(),ngram=1, do_steam= False)[0:100])\n",
    "#print (ipyth_utils.tokenize(open(file_path).read(),ngram=1, do_steam= True)[0:100])\n",
    "\n",
    "##ck12_prediction.docs_tf['predation_in_life_science.txt']"
   ]
  },
  {
   "cell_type": "code",
   "execution_count": null,
   "metadata": {
    "collapsed": false
   },
   "outputs": [],
   "source": [
    "## Checking that we have correct ngrams for some word in the data\n",
    "#print (ck12_prediction.docs_tf['21st_century_tsunami.txt'].keys())"
   ]
  },
  {
   "cell_type": "code",
   "execution_count": null,
   "metadata": {
    "collapsed": false
   },
   "outputs": [],
   "source": [
    "## PREDICTING DATA\n",
    "\n",
    "#predict\n",
    "print(\"run: predicting data\")\n",
    "start_time = time.time()\n",
    "res, prob_scores = ck12_prediction.similar_score_paral(data, docs_per_q = 10, n_gram = 3, workers=N_WORKERS)\n",
    "print (\"elapsed time: \",round((time.time()-start_time)/60,2))\n",
    "print (\"finished predicting probabilities\")"
   ]
  },
  {
   "cell_type": "code",
   "execution_count": null,
   "metadata": {
    "collapsed": false
   },
   "outputs": [],
   "source": [
    "## EVALUATING SCORES\n",
    "\n",
    "y = data.iloc[0:2500,6]\n",
    "y_pred = res[0:2500]\n",
    "print (evaluate_score (y_pred,y))\n"
   ]
  },
  {
   "cell_type": "markdown",
   "metadata": {},
   "source": [
    "Running parameter query test accross the data // <br>"
   ]
  },
  {
   "cell_type": "code",
   "execution_count": null,
   "metadata": {
    "collapsed": true
   },
   "outputs": [],
   "source": [
    "### Generating dictionary - probably too extensive\n",
    "\n",
    "#ck12_prediction = ck12_predict_cl ()\n",
    "#ck12_prediction.tf_idf_dict()"
   ]
  },
  {
   "cell_type": "code",
   "execution_count": null,
   "metadata": {
    "collapsed": false,
    "scrolled": false
   },
   "outputs": [],
   "source": [
    "## Should be done in parallel\n",
    "\n",
    "# MAKE RUN ACROSS PARAMETERS\n",
    "par_arange = np.arange(3,6,1)\n",
    "\n",
    "scor_li = []\n",
    "for par_iter in par_arange:\n",
    "    print(\"run: predicting data\")\n",
    "    res, prob_scores = ck12_prediction.similar_score(data, docs_per_q = par_iter, n_gram = 3)\n",
    "    prob_scores = np.array(prob_scores).flatten()\n",
    "    prob_scores = np.resize (prob_scores,(len(prob_scores)/4,4))\n",
    "    print (\"finished preciting probabilities:\")\n",
    "    print (prob_scores[0:2,:])\n",
    "\n",
    "    y = data.iloc[0:2500,6]\n",
    "    y_pred = res[0:2500]\n",
    "    print (\"parameter: \",par_iter, \" : \",evaluate_score (y_pred,y))\n",
    "    scor_li.append(evaluate_score (y_pred,y))\n",
    "    "
   ]
  },
  {
   "cell_type": "code",
   "execution_count": null,
   "metadata": {
    "collapsed": false
   },
   "outputs": [],
   "source": [
    "plt.plot (par_arange,scor_li)\n",
    "\n",
    "plt.title (\"Number of similar docs to look for vs Model perfomance\")\n",
    "plt.show()"
   ]
  },
  {
   "cell_type": "code",
   "execution_count": null,
   "metadata": {
    "collapsed": false
   },
   "outputs": [],
   "source": [
    "## Optmal number of docs is 15, however it's good to try small too\n",
    "\n",
    "res, prob_scores = ck12_prediction.similar_score(data, docs_per_q = 10,n_gram=3)\n",
    "print (\"finished predicting probabilities\")\n",
    "y = data.iloc[0:2500,6]\n",
    "y_pred = res[0:2500]\n",
    "print (evaluate_score (y_pred,y))"
   ]
  },
  {
   "cell_type": "code",
   "execution_count": null,
   "metadata": {
    "collapsed": false
   },
   "outputs": [],
   "source": [
    "#save result\n",
    "pd.DataFrame({'id': list(data['id']), 'correctAnswer': res})[['id', 'correctAnswer']].to_csv(\"../predictions/prediction_ck12.csv\", index = False)\n",
    "\n",
    "prob_scores = np.array(prob_scores).flatten()\n",
    "prob_scores = np.resize (prob_scores,(len(prob_scores)/4,4))\n",
    "pd.DataFrame({'id': list(data['id']),'probA': prob_scores[1:,0],'probB': prob_scores[1:,1],'probC': prob_scores[1:,2],'probD': prob_scores[1:,3]}).to_csv(\"../predictions/prob_prediction_ck12.csv\", index = False)\n",
    "\n"
   ]
  },
  {
   "cell_type": "code",
   "execution_count": null,
   "metadata": {
    "collapsed": true
   },
   "outputs": [],
   "source": []
  }
 ],
 "metadata": {
  "kernelspec": {
   "display_name": "Python 3",
   "language": "python",
   "name": "python3"
  },
  "language_info": {
   "codemirror_mode": {
    "name": "ipython",
    "version": 3
   },
   "file_extension": ".py",
   "mimetype": "text/x-python",
   "name": "python",
   "nbconvert_exporter": "python",
   "pygments_lexer": "ipython3",
   "version": "3.4.3"
  }
 },
 "nbformat": 4,
 "nbformat_minor": 0
}
