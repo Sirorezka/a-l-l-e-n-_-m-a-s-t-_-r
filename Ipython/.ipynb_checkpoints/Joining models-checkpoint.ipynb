{
 "cells": [
  {
   "cell_type": "code",
   "execution_count": 424,
   "metadata": {
    "collapsed": false
   },
   "outputs": [],
   "source": [
    "import csv\n",
    "import numpy as np\n",
    "import pandas as pd\n",
    "import codecs\n",
    "import time\n",
    "from sklearn.cross_validation import train_test_split\n",
    "from sklearn.linear_model import LogisticRegression\n",
    "from sklearn.tree import DecisionTreeRegressor\n",
    "from sklearn import cross_validation\n",
    "from sklearn.ensemble import AdaBoostClassifier"
   ]
  },
  {
   "cell_type": "markdown",
   "metadata": {},
   "source": [
    "Merging all existing data together"
   ]
  },
  {
   "cell_type": "code",
   "execution_count": 388,
   "metadata": {
    "collapsed": true
   },
   "outputs": [],
   "source": [
    "def open_data_file(file_path):\n",
    "    f1 = csv.reader(open(file_path))\n",
    "    header = next(f1)\n",
    "    data = []\n",
    "    for row in f1:\n",
    "        data.append(row)\n",
    "        \n",
    "    datafr = pd.DataFrame(data, dtype=\"float\")\n",
    "    datafr.columns = [\"id\",\"A\",\"B\",\"C\",\"D\"]\n",
    "    return datafr"
   ]
  },
  {
   "cell_type": "code",
   "execution_count": 389,
   "metadata": {
    "collapsed": false
   },
   "outputs": [],
   "source": [
    "# Convert probablities into answers\n",
    "def get_answers(pandas_df_prob):\n",
    "\n",
    "    df = list(map(lambda x: np.argmax(pandas_df_prob.iloc[x,1:]), range(pandas_df_prob.shape[0])))\n",
    "    return np.array(df)\n",
    "\n",
    "def fill_nans (x):\n",
    "    #print (pd.isnull(x))\n",
    "    val = 0\n",
    "    if pd.isnull(x):\n",
    "        val = 0\n",
    "    else:\n",
    "        val =x\n",
    "    return x\n"
   ]
  },
  {
   "cell_type": "code",
   "execution_count": 390,
   "metadata": {
    "collapsed": false
   },
   "outputs": [],
   "source": [
    "## Loading data\n",
    "\n",
    "all_data = pd.read_csv (\"../data/joined_set.tsv\", sep = '\\t' )\n",
    "\n",
    "probs_gl_6B_300d = open_data_file(\"../predictions/prob_prediction_glove_dict_glove.6B.300d.csv\")\n",
    "probs_gl_twit_27B_200D = open_data_file(\"../predictions/prob_prediction_glove_dict_glove.twitter.27B.200d.csv\")\n",
    "\n",
    "X_full = pd.concat ([probs_gl_6B_300d, probs_gl_twit_27B_200D.iloc[:,1:]], axis=1)\n",
    "\n"
   ]
  },
  {
   "cell_type": "code",
   "execution_count": 391,
   "metadata": {
    "collapsed": false
   },
   "outputs": [
    {
     "name": "stdout",
     "output_type": "stream",
     "text": [
      "nulls by column\n",
      "id       0\n",
      "A      386\n",
      "B      391\n",
      "C      372\n",
      "D      400\n",
      "A     1132\n",
      "B     1143\n",
      "C     1115\n",
      "D     1131\n",
      "dtype: int64\n",
      "        id         A         B         C         D         A         B  \\\n",
      "17  100018  0.474552  0.000000  0.450218 -0.124574  0.621523  0.000000   \n",
      "18  100019  0.520808  0.516180  0.716305  0.670864  0.670022  0.680622   \n",
      "19  100020  0.377641  0.251784  0.258041  0.304747  0.528533  0.433635   \n",
      "\n",
      "           C         D  \n",
      "17  0.639909  0.000000  \n",
      "18  0.786480  0.790769  \n",
      "19  0.507621  0.564263  \n"
     ]
    }
   ],
   "source": [
    "## removin nulls\n",
    "print (\"nulls by column\")\n",
    "print (X_full.isnull().sum())\n",
    "    \n",
    "X_full = X_full.fillna (0) \n",
    "print (X_full.iloc[17:20,:])"
   ]
  },
  {
   "cell_type": "code",
   "execution_count": 392,
   "metadata": {
    "collapsed": false,
    "scrolled": true
   },
   "outputs": [
    {
     "name": "stdout",
     "output_type": "stream",
     "text": [
      "Total train:  2500\n",
      "Total test:  8132 \n",
      "\n",
      "test:  1750\n",
      "test:  750\n",
      "Variables:  ['A' 'B' 'C' 'D' 'A' 'B' 'C' 'D']\n"
     ]
    }
   ],
   "source": [
    "## splitting data into test & train:\n",
    "\n",
    "ind_train = all_data[\"correctAnswer\"] != \"-1\"\n",
    "\n",
    "y = all_data[ind_train].iloc[:,6]\n",
    "X = X_full[ind_train].iloc[:,1:]\n",
    "test_data = X_full[~ind_train]\n",
    "\n",
    "\n",
    "print (\"Total train: \",len(train_data))\n",
    "print (\"Total test: \", len(test_data),\"\\n\")\n",
    "\n",
    "X_train, X_test, y_train, y_test = train_test_split (X,y, test_size = 0.3, random_state=42)\n",
    "print (\"test: \",len(X_train))\n",
    "print (\"test: \",len(X_test))\n",
    "\n",
    "print (\"Variables: \",X.columns.values)"
   ]
  },
  {
   "cell_type": "markdown",
   "metadata": {},
   "source": [
    "Assessing Models Scores:"
   ]
  },
  {
   "cell_type": "code",
   "execution_count": 430,
   "metadata": {
    "collapsed": false
   },
   "outputs": [
    {
     "name": "stdout",
     "output_type": "stream",
     "text": [
      "probs_gl_6B_300d  score: 0.3044\n",
      "probs_gl_twit_27B_200D  score: 0.2736\n"
     ]
    }
   ],
   "source": [
    "v1_answ = get_answers (probs_gl_6B_300d)\n",
    "somedata = v1_answ[:2500] == y\n",
    "model_score = sum(somedata)/len(y)\n",
    "print (\"probs_gl_6B_300d  score:\", model_score)\n",
    "\n",
    "\n",
    "v1_answ = get_answers (probs_gl_twit_27B_200D)\n",
    "somedata = v1_answ[:2500] == y\n",
    "model_score = sum(somedata)/len(y)\n",
    "print (\"probs_gl_twit_27B_200D  score:\",model_score)\n"
   ]
  },
  {
   "cell_type": "code",
   "execution_count": 432,
   "metadata": {
    "collapsed": false
   },
   "outputs": [
    {
     "name": "stdout",
     "output_type": "stream",
     "text": [
      "0.271219894323 0.223642172524\n"
     ]
    }
   ],
   "source": [
    "#clf = LogisticRegression (penalty='l2', C=0.9, random_state= 84)\n",
    "#clf = DecisionTreeRegressor (min_samples_leaf=25)\n",
    "clf = AdaBoostClassifier ( n_estimators=15, random_state = 84)\n",
    "scores = cross_validation.cross_val_score(clf, X, y, cv=8)\n",
    "print (scores.mean(), scores.min())"
   ]
  },
  {
   "cell_type": "code",
   "execution_count": null,
   "metadata": {
    "collapsed": true
   },
   "outputs": [],
   "source": []
  },
  {
   "cell_type": "code",
   "execution_count": null,
   "metadata": {
    "collapsed": true
   },
   "outputs": [],
   "source": []
  },
  {
   "cell_type": "code",
   "execution_count": null,
   "metadata": {
    "collapsed": true
   },
   "outputs": [],
   "source": []
  }
 ],
 "metadata": {
  "kernelspec": {
   "display_name": "Python 3",
   "language": "python",
   "name": "python3"
  },
  "language_info": {
   "codemirror_mode": {
    "name": "ipython",
    "version": 3
   },
   "file_extension": ".py",
   "mimetype": "text/x-python",
   "name": "python",
   "nbconvert_exporter": "python",
   "pygments_lexer": "ipython3",
   "version": "3.4.3"
  }
 },
 "nbformat": 4,
 "nbformat_minor": 0
}
