{
 "cells": [
  {
   "cell_type": "code",
   "execution_count": 39,
   "metadata": {
    "collapsed": false
   },
   "outputs": [],
   "source": [
    "%matplotlib inline\n",
    "\n",
    "import ipyth_word2_vec\n",
    "import os\n",
    "import time\n",
    "import argparse\n",
    "import ipyth_utils\n",
    "import csv\n",
    "import numpy as np\n",
    "import pandas as pd\n",
    "import codecs\n",
    "import time\n",
    "from sklearn.preprocessing import scale, LabelBinarizer\n",
    "from sklearn.cross_validation import train_test_split\n",
    "from sklearn.linear_model import LogisticRegression\n",
    "from sklearn.tree import DecisionTreeRegressor\n",
    "from sklearn import cross_validation\n",
    "from sklearn.ensemble import AdaBoostClassifier\n",
    "import matplotlib.pyplot as plt\n",
    "\n",
    "from multiprocessing import Pool\n",
    "\n",
    "## word2vec model and logging:\n",
    "from gensim.models import word2vec\n",
    "import logging\n",
    "logging.basicConfig(format='%(asctime)s : %(levelname)s : %(message)s',\\\n",
    "    level=logging.INFO)"
   ]
  },
  {
   "cell_type": "code",
   "execution_count": 40,
   "metadata": {
    "collapsed": true
   },
   "outputs": [],
   "source": [
    "## For model evaluation:\n",
    "def evaluate_score (y_model, y_real):\n",
    "    model_score = sum(y_model==y_real)/len(y_real)\n",
    "    return model_score"
   ]
  },
  {
   "cell_type": "markdown",
   "metadata": {},
   "source": [
    "### step 1 reading library with documents or pretrained vectors"
   ]
  },
  {
   "cell_type": "code",
   "execution_count": 41,
   "metadata": {
    "collapsed": false
   },
   "outputs": [],
   "source": [
    "## Get wiki docs:\n",
    "libarary_dir = '../data/wiki_data'\n",
    "\n",
    "def read_wiki_docs_text (libarary_dir):\n",
    "    docs = []\n",
    "\n",
    "    for fname in os.listdir(libarary_dir):\n",
    "        path = os.path.join(libarary_dir, fname)\n",
    "        words = ipyth_utils.tokenize(open(path).read(),ngram = 1)  #word2vec data doesn't need tokenization\n",
    "        docs.append(words)\n",
    "        \n",
    "    return docs\n",
    "\n",
    "library_data = read_wiki_docs_text (libarary_dir)\n",
    "\n"
   ]
  },
  {
   "cell_type": "code",
   "execution_count": 43,
   "metadata": {
    "collapsed": false
   },
   "outputs": [
    {
     "name": "stdout",
     "output_type": "stream",
     "text": [
      "['papua', 'earthquake', 'occurred', 'moment', 'magnitude', 'january', 'local', 'time', 'killing', 'least', 'four', 'injuring', 'dozens', 'people', 'epicenter', 'kilometres', 'mi', 'west', 'northwest', 'manokwari', 'km', 'mi', 'east', 'northeast', 'sorong', 'indonesia', 'west', 'papua', 'province', 'bird', 'head', 'peninsula', 'official', 'world', 'vision', 'said', 'ten', 'buildings', 'totally', 'destroyed', 'including', 'several', 'hotels', 'house', 'government', 'official', 'officials', 'said', 'three', 'people', 'staying', 'mutiara', 'hotel', 'city', 'manokwari', 'pulled', 'alive', 'rubble', 'taken', 'hospital', 'two', 'hotels', 'collapsed', 'quake', 'twenty', 'three', 'aftershocks', 'magnitude', 'one', 'magnitude', 'occurring', 'local', 'time', 'january', 'utc', 'another', 'magnitude', 'earthquake', 'also', 'felt', 'nearby', 'papua', 'new', 'guinea', 'darwin', 'australia', 'see', 'also', 'west', 'papua', 'earthquake', 'papua', 'earthquake', 'references', 'external', 'links', 'earthquake', 'papua', 'indonesia', 'nasa', 'earth', 'observatory']\n",
      "\n",
      "\n",
      "total number of docs:  2140\n"
     ]
    }
   ],
   "source": [
    "## Text Example:\n",
    "print(library_data[0][0:400])\n",
    "print (\"\\n\")\n",
    "print (\"total number of docs: \", len (library_data))"
   ]
  },
  {
   "cell_type": "markdown",
   "metadata": {},
   "source": [
    "Learning Classifier"
   ]
  },
  {
   "cell_type": "code",
   "execution_count": 46,
   "metadata": {
    "collapsed": false
   },
   "outputs": [
    {
     "name": "stdout",
     "output_type": "stream",
     "text": [
      "D:\\Wikipedia & others\\freebase-vectors-skipgram1000.bin\\\n",
      "Training model...\n",
      "Model trained and saved. Time passed in minutes:  0.54\n"
     ]
    }
   ],
   "source": [
    "# Set values for various parameters\n",
    "num_features = 300    # Word vector dimensionality                      \n",
    "min_word_count = 1   # Minimum word count                        \n",
    "num_workers = 4       # Number of threads to run in parallel\n",
    "context = 10          # Context window size                                                                                    \n",
    "#downsampling = 1e-3   # Downsample setting for frequent words\n",
    "\n",
    "\n",
    "train_model = True\n",
    "#f_model_path = \"D:\\Wikipedia & others\\\\freebase-vectors-skipgram1000.bin\\\\\"\n",
    "#f_model_name = \"knowledge-vectors-skipgram1000.bin\"\n",
    "\n",
    "f_model_name = \"ck12_wiki_data\"\n",
    "\n",
    "print (f_model_path)\n",
    "\n",
    "# Initialize and train the model (this will take some time)\n",
    "if train_model:\n",
    "    \n",
    "    print (\"Training model...\")\n",
    "    start_time = time.time()\n",
    "    wiki_word2vecmodel = word2vec.Word2Vec(library_data, workers=num_workers, \\\n",
    "                size=num_features, min_count = min_word_count, \\\n",
    "                window = context)\n",
    "\n",
    "    # If you don't plan to train the model any further, calling \n",
    "    # init_sims will make the model much more memory-efficient.\n",
    "    wiki_word2vecmodel.init_sims(replace=True)\n",
    "\n",
    "    # It can be helpful to create a meaningful model name and \n",
    "    # save the model for later use. You can load it later using Word2Vec.load()\n",
    "    wiki_word2vecmodel.save(f_model_name)\n",
    "    print (\"Model trained and saved. Time passed in minutes: \",round((time.time() - start_time)/60,2))\n",
    "\n",
    "if not train_model:\n",
    "    start_time = time.time()\n",
    "    wiki_word2vecmodel = word2vec.Word2Vec.load_word2vec_format(f_model_path + f_model_name, binary=False)\n",
    "    print (\"Model loaded. Time passed in minutes: \",round((time.time() - start_time)/60,2))"
   ]
  },
  {
   "cell_type": "markdown",
   "metadata": {},
   "source": [
    "### step 2 reading initial data"
   ]
  },
  {
   "cell_type": "code",
   "execution_count": 50,
   "metadata": {
    "collapsed": true
   },
   "outputs": [],
   "source": [
    "## Loadin train data\n",
    "fname_str = 'joined_set.tsv'\n",
    "\n",
    "data = pd.read_csv('../data/' + fname_str, sep = '\\t')"
   ]
  },
  {
   "cell_type": "code",
   "execution_count": 51,
   "metadata": {
    "collapsed": false
   },
   "outputs": [
    {
     "data": {
      "text/plain": [
       "0.3412"
      ]
     },
     "execution_count": 51,
     "metadata": {},
     "output_type": "execute_result"
    }
   ],
   "source": [
    "## Evaluating model\n",
    "\n",
    "res, prob_score = ipyth_word2_vec.predict_cosine_answers (data, wiki_word2vecmodel,num_features,ngram = 1)\n",
    "\n",
    "y = data.iloc[0:2500,6]\n",
    "y_predict = res[0:2500]\n",
    "evaluate_score(y_predict, y)"
   ]
  },
  {
   "cell_type": "markdown",
   "metadata": {},
   "source": [
    "Now we need to fine tune all parameters\n"
   ]
  },
  {
   "cell_type": "code",
   "execution_count": 66,
   "metadata": {
    "collapsed": false,
    "scrolled": true
   },
   "outputs": [
    {
     "name": "stdout",
     "output_type": "stream",
     "text": [
      "Training model...\n",
      "20  --  0.3116\n",
      "Training model...\n",
      "40  --  0.3276\n",
      "Training model...\n",
      "60  --  0.3372\n",
      "Training model...\n",
      "80  --  0.3472\n",
      "Training model...\n",
      "100  --  0.3404\n",
      "Training model...\n",
      "120  --  0.3364\n",
      "Training model...\n",
      "140  --  0.3496\n",
      "Training model...\n",
      "160  --  0.3492\n",
      "Training model...\n",
      "180  --  0.3416\n",
      "Parameter estimation time:  6.1844441016515095\n"
     ]
    }
   ],
   "source": [
    "## Varying num_features\n",
    "num_features = 140    # Word vector dimensionality                      \n",
    "min_word_count = 1   # Minimum word count                        \n",
    "num_workers = 4       # Number of threads to run in parallel\n",
    "context = 10          # Context window size\n",
    "sg = 0                # 0 - cbow, 1 - n-gram\n",
    "\n",
    "par_range  = np.arange (20,200,20)\n",
    "scores = []\n",
    "\n",
    "\n",
    "start_time = time.time()\n",
    "for par_iter in par_range:\n",
    "    print (\"Training model...\")\n",
    "    num_features = par_iter\n",
    "    \n",
    "    wiki_word2vecmodel = word2vec.Word2Vec(library_data, workers = num_workers, \\\n",
    "                size = par_iter, min_count = min_word_count, \\\n",
    "                window = context, sg = 1)\n",
    "    \n",
    "    ## Evaluating model\n",
    "    res, prob_score = ipyth_word2_vec.predict_cosine_answers (data, wiki_word2vecmodel, num_features, ngram=1)\n",
    "    wiki_word2vecmodel.init_sims(replace=True)\n",
    "    y = data.iloc[0:2500,6]\n",
    "    y_predict = res[0:2500]\n",
    "    print (par_iter,\" -- \",evaluate_score(y_predict, y))\n",
    "    scores.append(evaluate_score(y_predict, y))\n",
    "\n",
    "\n",
    "print (\"Parameter estimation time: \",(time.time()-start_time)/60)"
   ]
  },
  {
   "cell_type": "code",
   "execution_count": 67,
   "metadata": {
    "collapsed": false
   },
   "outputs": [
    {
     "data": {
      "image/png": "[encoded data removed]",
      "text/plain": [
       "<matplotlib.figure.Figure at 0xcefb6400>"
      ]
     },
     "metadata": {},
     "output_type": "display_data"
    }
   ],
   "source": [
    "plt.plot(par_range,scores)\n",
    "plt.title (\"Model and num of features\")\n",
    "plt.show()"
   ]
  },
  {
   "cell_type": "markdown",
   "metadata": {},
   "source": [
    "And now we introdyce best trained model"
   ]
  },
  {
   "cell_type": "code",
   "execution_count": 56,
   "metadata": {
    "collapsed": false
   },
   "outputs": [
    {
     "name": "stdout",
     "output_type": "stream",
     "text": [
      "finished predicting probabilities\n",
      "0.3472\n"
     ]
    }
   ],
   "source": [
    "## Best Model\n",
    "\n",
    "num_features = 140    # Word vector dimensionality                      \n",
    "min_word_count = 1   # Minimum word count                        \n",
    "num_workers = 4       # Number of threads to run in parallel\n",
    "context = 10          # Context window size\n",
    "sg = 1                # 0 - cbow, 1 - n-gram\n",
    "\n",
    "wiki_word2vecmodel = word2vec.Word2Vec(library_data, workers=4, \\\n",
    "                size=num_features, min_count = min_word_count, \\\n",
    "                window = context)\n",
    "\n",
    "    \n",
    "## Evaluating model\n",
    "res, prob_score = ipyth_word2_vec.predict_cosine_answers (data, wiki_word2vecmodel,num_features, ngram=1)\n",
    "print (\"finished predicting probabilities\")\n",
    "y = data.iloc[0:2500,6]\n",
    "y_pred = res[0:2500]\n",
    "print (evaluate_score (y_pred,y))"
   ]
  },
  {
   "cell_type": "code",
   "execution_count": null,
   "metadata": {
    "collapsed": true
   },
   "outputs": [],
   "source": []
  }
 ],
 "metadata": {
  "kernelspec": {
   "display_name": "Python 3",
   "language": "python",
   "name": "python3"
  },
  "language_info": {
   "codemirror_mode": {
    "name": "ipython",
    "version": 3
   },
   "file_extension": ".py",
   "mimetype": "text/x-python",
   "name": "python",
   "nbconvert_exporter": "python",
   "pygments_lexer": "ipython3",
   "version": "3.4.3"
  }
 },
 "nbformat": 4,
 "nbformat_minor": 0
}
